{
 "cells": [
  {
   "cell_type": "markdown",
   "id": "combined-semiconductor",
   "metadata": {
    "id": "combined-semiconductor"
   },
   "source": [
    "# Modeling Vaccination"
   ]
  },
  {
   "cell_type": "markdown",
   "id": "imported-table",
   "metadata": {
    "id": "imported-table",
    "tags": []
   },
   "source": [
    "*Modeling and Simulation in Python*\n",
    "\n",
    "Copyright 2021 Allen Downey\n",
    "\n",
    "License: [Creative Commons Attribution-NonCommercial-ShareAlike 4.0 International](https://creativecommons.org/licenses/by-nc-sa/4.0/)"
   ]
  },
  {
   "cell_type": "code",
   "execution_count": 45,
   "id": "formal-context",
   "metadata": {
    "id": "formal-context",
    "tags": []
   },
   "outputs": [],
   "source": [
    "# download modsim.py if necessary\n",
    "\n",
    "from os.path import basename, exists\n",
    "\n",
    "def download(url):\n",
    "    filename = basename(url)\n",
    "    if not exists(filename):\n",
    "        from urllib.request import urlretrieve\n",
    "        local, _ = urlretrieve(url, filename)\n",
    "        print('Downloaded ' + local)\n",
    "    \n",
    "download('https://github.com/AllenDowney/ModSimPy/raw/master/' +\n",
    "         'modsim.py')"
   ]
  },
  {
   "cell_type": "code",
   "execution_count": 46,
   "id": "progressive-typing",
   "metadata": {
    "id": "progressive-typing",
    "tags": []
   },
   "outputs": [],
   "source": [
    "# import functions from modsim\n",
    "\n",
    "from modsim import *"
   ]
  },
  {
   "cell_type": "code",
   "execution_count": 47,
   "id": "breathing-hamilton",
   "metadata": {
    "id": "breathing-hamilton",
    "tags": []
   },
   "outputs": [],
   "source": [
    "download('https://github.com/AllenDowney/ModSimPy/raw/master/chap11.py')"
   ]
  },
  {
   "cell_type": "code",
   "execution_count": 48,
   "id": "growing-sperm",
   "metadata": {
    "id": "growing-sperm",
    "tags": []
   },
   "outputs": [],
   "source": [
    "# import code from previous notebooks\n",
    "\n",
    "from chap11 import make_system\n",
    "from chap11 import update_func\n",
    "from chap11 import run_simulation"
   ]
  },
  {
   "cell_type": "code",
   "execution_count": 66,
   "id": "47eace2e",
   "metadata": {},
   "outputs": [],
   "source": [
    "def make_system(beta, gamma):\n",
    "    init = State(s=89, i=1, r=0)\n",
    "    init /= init.sum()\n",
    "\n",
    "    return System(init=init, t_end=7*14,\n",
    "                  beta=beta, gamma=gamma)"
   ]
  },
  {
   "cell_type": "code",
   "execution_count": 67,
   "id": "dd977e4d",
   "metadata": {},
   "outputs": [],
   "source": [
    "def update_func(t, state, system):\n",
    "    s, i, r = state.s, state.i, state.r\n",
    "\n",
    "    infected = system.beta * i * s    \n",
    "    recovered = system.gamma * i\n",
    "    \n",
    "    s -= infected\n",
    "    i += infected - recovered\n",
    "    r += recovered\n",
    "    \n",
    "    return State(s=s, i=i, r=r)"
   ]
  },
  {
   "cell_type": "code",
   "execution_count": 68,
   "id": "253e34ea",
   "metadata": {},
   "outputs": [],
   "source": [
    "def run_simulation(system, update_func):\n",
    "    frame = TimeFrame(columns=system.init.index)\n",
    "    frame.loc[0] = system.init\n",
    "    \n",
    "    for t in range(0, system.t_end):\n",
    "        frame.loc[t+1] = update_func(t, frame.loc[t], system)\n",
    "    \n",
    "    return frame"
   ]
  },
  {
   "cell_type": "markdown",
   "id": "identical-steam",
   "metadata": {
    "id": "identical-steam"
   },
   "source": [
    "In the previous chapter I presented the Kermack-McKendrick (KM) model of infectious disease and used it to model the Freshman Plague at Olin. In this chapter we'll consider metrics intended to quantify the effects of the disease and interventions intended to reduce those effects.\n",
    "\n",
    "We'll use some of the functions from the previous chapter: `make_system`, `update_func`, and the last version of `run_simulation`, which returns the results in a `DataFrame` object."
   ]
  },
  {
   "cell_type": "markdown",
   "id": "complex-renewal",
   "metadata": {
    "id": "complex-renewal"
   },
   "source": [
    "## Immunization\n",
    "\n",
    "Models like this are useful for testing \"what if?\" scenarios. As an\n",
    "example, we'll consider the effect of immunization.\n",
    "\n",
    "Suppose there is a vaccine that causes a student to become immune to the Freshman Plague without being infected. How might you modify the model to capture this effect?\n",
    "\n",
    "One option is to treat immunization as a shortcut from susceptible to\n",
    "recovered without going through infectious. We can implement this\n",
    "feature like this:"
   ]
  },
  {
   "cell_type": "code",
   "execution_count": 49,
   "id": "recent-cooper",
   "metadata": {
    "id": "recent-cooper"
   },
   "outputs": [],
   "source": [
    "def add_immunization(system, fraction):\n",
    "    system.init.s -= fraction\n",
    "    system.init.r += fraction"
   ]
  },
  {
   "cell_type": "markdown",
   "id": "arranged-screening",
   "metadata": {
    "id": "arranged-screening"
   },
   "source": [
    "`add_immunization` moves the given fraction of the population from `S`\n",
    "to `R`.\n",
    "\n",
    "As a basis for comparison, I'll run the model with the same parameters as in the previous chapter, with no immunization."
   ]
  },
  {
   "cell_type": "code",
   "execution_count": 50,
   "id": "found-learning",
   "metadata": {
    "id": "found-learning"
   },
   "outputs": [],
   "source": [
    "tc = 3             # time between contacts in days \n",
    "tr = 4             # recovery time in days\n",
    "\n",
    "beta = 1 / tc      # contact rate in per day\n",
    "gamma = 1 / tr     # recovery rate in per day\n",
    "\n",
    "system = make_system(beta, gamma)\n",
    "results = run_simulation(system, update_func)"
   ]
  },
  {
   "cell_type": "markdown",
   "id": "unsigned-joseph",
   "metadata": {
    "id": "unsigned-joseph"
   },
   "source": [
    "Now let's see what happens if 10% of students are immune.\n",
    "I'll make another `System` object with the same parameters, then run `add_immunization` to modify the initial conditions."
   ]
  },
  {
   "cell_type": "code",
   "execution_count": 51,
   "id": "enormous-abortion",
   "metadata": {
    "id": "enormous-abortion"
   },
   "outputs": [],
   "source": [
    "system2 = make_system(beta, gamma)\n",
    "add_immunization(system2, 0.1)"
   ]
  },
  {
   "cell_type": "markdown",
   "id": "subject-ideal",
   "metadata": {
    "id": "subject-ideal"
   },
   "source": [
    "Now we can run the simulation like this:"
   ]
  },
  {
   "cell_type": "code",
   "execution_count": 52,
   "id": "funny-copper",
   "metadata": {
    "id": "funny-copper"
   },
   "outputs": [],
   "source": [
    "results2 = run_simulation(system2, update_func)"
   ]
  },
  {
   "cell_type": "markdown",
   "id": "bronze-techno",
   "metadata": {
    "id": "bronze-techno"
   },
   "source": [
    "The following figure shows `s` as a function of time, with and\n",
    "without immunization."
   ]
  },
  {
   "cell_type": "code",
   "execution_count": 53,
   "id": "divided-biotechnology",
   "metadata": {
    "id": "divided-biotechnology"
   },
   "outputs": [
    {
     "data": {
      "image/png": "[encoded data removed]",
      "text/plain": [
       "<Figure size 432x288 with 1 Axes>"
      ]
     },
     "metadata": {
      "needs_background": "light"
     },
     "output_type": "display_data"
    }
   ],
   "source": [
    "results.s.plot(style='--', label='No immunization')\n",
    "results2.s.plot(label='10% immunization')\n",
    "\n",
    "decorate(xlabel='Time (days)',\n",
    "         ylabel='Fraction of population')"
   ]
  },
  {
   "cell_type": "markdown",
   "id": "passive-dance",
   "metadata": {
    "id": "passive-dance"
   },
   "source": [
    "With immunization, there is a smaller change in `s`; that is, fewer people are infected.\n",
    "In the next section we'll compute this change and use it to quantify the effect of immunization."
   ]
  },
  {
   "cell_type": "markdown",
   "id": "postal-cemetery",
   "metadata": {
    "id": "postal-cemetery"
   },
   "source": [
    "## Metrics\n",
    "\n",
    "When we plot a time series, we get a view of everything that happened\n",
    "when the model ran, but often we want to boil it down to a few numbers\n",
    "that summarize the outcome. These summary statistics are called\n",
    "*metrics*.\n",
    "\n",
    "In the KM model, we might want to know the time until the peak of the\n",
    "outbreak, the number of people who are sick at the peak, the number of\n",
    "students who will still be sick at the end of the semester, or the total number of students who get sick at any point.\n",
    "\n",
    "As an example, I will focus on the last one --- the total number of sick students --- and we will consider interventions intended to minimize it.\n",
    "\n",
    "We can get the total number of infections by computing the difference in `s` at the beginning and the end of the simulation."
   ]
  },
  {
   "cell_type": "code",
   "execution_count": 54,
   "id": "synthetic-element",
   "metadata": {
    "id": "synthetic-element",
    "tags": []
   },
   "outputs": [],
   "source": [
    "def calc_total_infected(results, system):\n",
    "    s_0 = results.s[0]\n",
    "    s_end = results.s[system.t_end]\n",
    "    return s_0 - s_end"
   ]
  },
  {
   "cell_type": "markdown",
   "id": "parallel-pipeline",
   "metadata": {
    "id": "parallel-pipeline"
   },
   "source": [
    "And here are the results from the two simulations."
   ]
  },
  {
   "cell_type": "code",
   "execution_count": 55,
   "id": "recovered-picnic",
   "metadata": {
    "id": "recovered-picnic"
   },
   "outputs": [
    {
     "data": {
      "text/plain": [
       "0.468320811028781"
      ]
     },
     "execution_count": 55,
     "metadata": {},
     "output_type": "execute_result"
    }
   ],
   "source": [
    "calc_total_infected(results, system)"
   ]
  },
  {
   "cell_type": "code",
   "execution_count": 56,
   "id": "american-transfer",
   "metadata": {
    "id": "american-transfer"
   },
   "outputs": [
    {
     "data": {
      "text/plain": [
       "0.30650802853979753"
      ]
     },
     "execution_count": 56,
     "metadata": {},
     "output_type": "execute_result"
    }
   ],
   "source": [
    "calc_total_infected(results2, system2)"
   ]
  },
  {
   "cell_type": "markdown",
   "id": "adverse-trance",
   "metadata": {
    "id": "adverse-trance"
   },
   "source": [
    "Without immunization, almost 47% of the population gets infected at some point. With 10% immunization, only 31% get infected. That's pretty good."
   ]
  },
  {
   "cell_type": "markdown",
   "id": "eight-maximum",
   "metadata": {
    "id": "eight-maximum"
   },
   "source": [
    "## Sweeping Immunization\n",
    "\n",
    "Now let's see what happens if we administer more vaccines. This\n",
    "following function sweeps a range of immunization rates:"
   ]
  },
  {
   "cell_type": "code",
   "execution_count": 57,
   "id": "progressive-architect",
   "metadata": {
    "id": "progressive-architect"
   },
   "outputs": [],
   "source": [
    "def sweep_immunity(fraction_array):\n",
    "    sweep = SweepSeries()\n",
    "\n",
    "    for fraction in fraction_array:\n",
    "        system = make_system(beta, gamma)\n",
    "        add_immunization(system, fraction)\n",
    "        results = run_simulation(system, update_func)\n",
    "        sweep[fraction] = calc_total_infected(results, system)\n",
    "\n",
    "    return sweep"
   ]
  },
  {
   "cell_type": "markdown",
   "id": "timely-industry",
   "metadata": {
    "id": "timely-industry"
   },
   "source": [
    "The parameter of `sweep_immunity` is an array of immunization rates. The result is a `SweepSeries` object that maps from each immunization rate to the resulting fraction of students ever infected.\n",
    "\n",
    "We can call it like this:"
   ]
  },
  {
   "cell_type": "code",
   "execution_count": 58,
   "id": "measured-pavilion",
   "metadata": {
    "id": "measured-pavilion"
   },
   "outputs": [],
   "source": [
    "fraction_array = linspace(0, 1, 21)\n",
    "infected_sweep = sweep_immunity(fraction_array)"
   ]
  },
  {
   "cell_type": "markdown",
   "id": "indie-seeker",
   "metadata": {
    "id": "indie-seeker"
   },
   "source": [
    "The following figure plots the `SweepSeries`. Notice that the $x$-axis is the immunization rate, not time."
   ]
  },
  {
   "cell_type": "code",
   "execution_count": 59,
   "id": "interior-humanitarian",
   "metadata": {
    "id": "interior-humanitarian"
   },
   "outputs": [
    {
     "data": {
      "image/png": "[encoded data removed]",
      "text/plain": [
       "<Figure size 432x288 with 1 Axes>"
      ]
     },
     "metadata": {
      "needs_background": "light"
     },
     "output_type": "display_data"
    }
   ],
   "source": [
    "infected_sweep.plot(color='C2')\n",
    "\n",
    "decorate(xlabel='Fraction immunized',\n",
    "         ylabel='Total fraction infected',\n",
    "         title='Fraction infected vs. immunization rate')"
   ]
  },
  {
   "cell_type": "markdown",
   "id": "turkish-mumbai",
   "metadata": {
    "id": "turkish-mumbai"
   },
   "source": [
    "As the immunization rate increases, the number of infections drops\n",
    "steeply. If 40% of the students are immunized, fewer than 4% get sick.\n",
    "That's because immunization has two effects: it protects the people who get immunized (of course) but it also protects the rest of the\n",
    "population.\n",
    "\n",
    "Reducing the number of \"susceptibles\" and increasing the number of\n",
    "\"resistants\" makes it harder for the disease to spread, because some\n",
    "fraction of contacts are wasted on people who cannot be infected. This\n",
    "phenomenon is called *herd immunity*, and it is an important element\n",
    "of public health (see <http://modsimpy.com/herd>)."
   ]
  },
  {
   "cell_type": "markdown",
   "id": "french-spouse",
   "metadata": {
    "id": "french-spouse"
   },
   "source": [
    "The steepness of the curve is a blessing and a curse. It's a blessing\n",
    "because it means we don't have to immunize everyone, and vaccines can\n",
    "protect the \"herd\" even if they are not 100% effective.\n",
    "\n",
    "But it's a curse because a small decrease in immunization can cause a\n",
    "big increase in infections. In this example, if we drop from 80%\n",
    "immunization to 60%, that might not be too bad. But if we drop from 40% to 20%, that would trigger a major outbreak, affecting more than 15% of the population. For a serious disease like measles, just to name one, that would be a public health catastrophe."
   ]
  },
  {
   "cell_type": "markdown",
   "id": "amino-excess",
   "metadata": {
    "id": "amino-excess"
   },
   "source": [
    "## Summary\n",
    "\n",
    "In general, models are used to predict, explain, and design.\n",
    "In this chapter, we use an SIR model to predict the effect of immunization and to explain the phenomenon of herd immunity.\n",
    "\n",
    "In the repository for this book, you will find a file called *plague.ipynb* that uses this model for design, that is, for making public health decisions intended to achieve a goal.\n",
    "\n",
    "In the next chapter, we'll explore the SIR model further by sweeping the parameters.\n",
    "\n",
    "But first you might want to work on this exercise."
   ]
  },
  {
   "cell_type": "markdown",
   "id": "institutional-memory",
   "metadata": {
    "id": "institutional-memory"
   },
   "source": [
    "## Exercises\n",
    "\n",
    "This chapter is available as a Jupyter notebook where you can read the text, run the code, and work on the exercises. \n",
    "You can access the notebooks at <https://allendowney.github.io/ModSimPy/>."
   ]
  },
  {
   "cell_type": "markdown",
   "id": "drawn-hindu",
   "metadata": {
    "id": "drawn-hindu"
   },
   "source": [
    "### Exercise 1\n",
    "\n",
    " Suppose we have the option to quarantine infected students.  For example, a student who feels ill might be moved to an infirmary or a private dorm room until they are no longer infectious.\n",
    "\n",
    "How might you incorporate the effect of quarantine in the SIR model?"
   ]
  },
  {
   "cell_type": "markdown",
   "id": "fbc82cd6",
   "metadata": {
    "id": "impressive-librarian"
   },
   "source": [
    "There are a few ways we can think of quarantining. It can be thought of an increase in the amount of days between a susceptible person coming in contact with an infected person. We can also think of it as taking infected people out of the field, this is the same as putting them in the recovered category, because just like a recovered person, a quarantined person won't be able to get others sick. That is what I will do. "
   ]
  },
  {
   "cell_type": "code",
   "execution_count": null,
   "id": "a193c7bf",
   "metadata": {},
   "outputs": [],
   "source": []
  },
  {
   "cell_type": "code",
   "execution_count": null,
   "id": "d60c6466",
   "metadata": {},
   "outputs": [],
   "source": []
  },
  {
   "cell_type": "code",
   "execution_count": 69,
   "id": "27ecf8b3",
   "metadata": {},
   "outputs": [],
   "source": [
    "def add_quarantine(system, fraction):\n",
    "    system.init.i -= fraction\n",
    "    system.init.r += fraction"
   ]
  },
  {
   "cell_type": "code",
   "execution_count": 75,
   "id": "7f9f892c",
   "metadata": {},
   "outputs": [],
   "source": [
    "system3 = make_system(beta, gamma)\n",
    "add_quarantine(system3, 0.01)\n",
    "results3 = run_simulation(system3, update_func)"
   ]
  },
  {
   "cell_type": "code",
   "execution_count": 76,
   "id": "cabb720a",
   "metadata": {},
   "outputs": [
    {
     "data": {
      "image/png": "[encoded data removed]",
      "text/plain": [
       "<Figure size 432x288 with 1 Axes>"
      ]
     },
     "metadata": {
      "needs_background": "light"
     },
     "output_type": "display_data"
    }
   ],
   "source": [
    "results.s.plot(style='--', label='No Quarantine')\n",
    "results3.s.plot(label='10% of Infected Placed in Quarantine')\n",
    "\n",
    "decorate(xlabel='Time (days)',\n",
    "         ylabel='Fraction of population')"
   ]
  },
  {
   "cell_type": "code",
   "execution_count": 77,
   "id": "48465eeb",
   "metadata": {},
   "outputs": [],
   "source": [
    "# We will use a sweep series since we do not know how good we will be at being able to capture the infected population.\n",
    "def sweep_quarantine(fraction_array):\n",
    "    sweep = SweepSeries()\n",
    "\n",
    "    for fraction in fraction_array:\n",
    "        system = make_system(beta, gamma)\n",
    "        add_quarantine(system, fraction)\n",
    "        results = run_simulation(system, update_func)\n",
    "        sweep[fraction] = calc_total_infected(results, system)\n",
    "\n",
    "    return sweep"
   ]
  },
  {
   "cell_type": "code",
   "execution_count": 84,
   "id": "40031c04",
   "metadata": {},
   "outputs": [
    {
     "name": "stderr",
     "output_type": "stream",
     "text": [
      "C:\\Users\\tyler\\AppData\\Local\\Temp/ipykernel_15356/2448104761.py:4: RuntimeWarning: overflow encountered in double_scalars\n",
      "  infected = system.beta * i * s\n",
      "C:\\Users\\tyler\\AppData\\Local\\Temp/ipykernel_15356/2448104761.py:8: RuntimeWarning: invalid value encountered in double_scalars\n",
      "  i += infected - recovered\n"
     ]
    }
   ],
   "source": [
    "fraction_array = linspace(0, .25, 11)\n",
    "infected_sweep = sweep_quarantine(fraction_array)"
   ]
  },
  {
   "cell_type": "code",
   "execution_count": 85,
   "id": "8be4fd49",
   "metadata": {},
   "outputs": [
    {
     "data": {
      "image/png": "[encoded data removed]",
      "text/plain": [
       "<Figure size 432x288 with 1 Axes>"
      ]
     },
     "metadata": {
      "needs_background": "light"
     },
     "output_type": "display_data"
    }
   ],
   "source": [
    "infected_sweep.plot(color='C2')\n",
    "\n",
    "decorate(xlabel='Fraction of Infected Placed in Quarantine',\n",
    "         ylabel='Total fraction infected',\n",
    "         title='Fraction infected vs. Quarantine rate')"
   ]
  },
  {
   "cell_type": "markdown",
   "id": "472decad",
   "metadata": {},
   "source": [
    "I am having to place the amount of infected in quarantine as an extremely low percentage to avoid errors. I believe that my simulation might work better while in the heart of the spread, not the beginning. I'm going to change my initial state and see what happens."
   ]
  },
  {
   "cell_type": "code",
   "execution_count": 86,
   "id": "edc4bba0",
   "metadata": {},
   "outputs": [],
   "source": [
    "def make_system_middle(beta, gamma):\n",
    "    init = State(s=60, i=30, r=0)\n",
    "    init /= init.sum()\n",
    "\n",
    "    return System(init=init, t_end=7*14,\n",
    "                  beta=beta, gamma=gamma)"
   ]
  },
  {
   "cell_type": "code",
   "execution_count": 87,
   "id": "8c21d027",
   "metadata": {},
   "outputs": [],
   "source": [
    "system3 = make_system_middle(beta, gamma)\n",
    "add_quarantine(system3, 0.1)\n",
    "results3 = run_simulation(system3, update_func)"
   ]
  },
  {
   "cell_type": "code",
   "execution_count": 88,
   "id": "e5b01907",
   "metadata": {},
   "outputs": [
    {
     "data": {
      "image/png": "[encoded data removed]",
      "text/plain": [
       "<Figure size 432x288 with 1 Axes>"
      ]
     },
     "metadata": {
      "needs_background": "light"
     },
     "output_type": "display_data"
    }
   ],
   "source": [
    "results.s.plot(style='--', label='No Quarantine')\n",
    "results3.s.plot(label='10% of Infected Placed in Quarantine')\n",
    "\n",
    "decorate(xlabel='Time (days)',\n",
    "         ylabel='Fraction of population')"
   ]
  },
  {
   "cell_type": "code",
   "execution_count": 89,
   "id": "fd0c2a3f",
   "metadata": {},
   "outputs": [],
   "source": [
    "def sweep_quarantine_middle(fraction_array):\n",
    "    sweep = SweepSeries()\n",
    "\n",
    "    for fraction in fraction_array:\n",
    "        system = make_system_middle(beta, gamma)\n",
    "        add_quarantine(system, fraction)\n",
    "        results = run_simulation(system, update_func)\n",
    "        sweep[fraction] = calc_total_infected(results, system)\n",
    "\n",
    "    return sweep"
   ]
  },
  {
   "cell_type": "code",
   "execution_count": 95,
   "id": "03a14273",
   "metadata": {},
   "outputs": [
    {
     "name": "stderr",
     "output_type": "stream",
     "text": [
      "C:\\Users\\tyler\\AppData\\Local\\Temp/ipykernel_15356/2448104761.py:4: RuntimeWarning: overflow encountered in double_scalars\n",
      "  infected = system.beta * i * s\n",
      "C:\\Users\\tyler\\AppData\\Local\\Temp/ipykernel_15356/2448104761.py:8: RuntimeWarning: invalid value encountered in double_scalars\n",
      "  i += infected - recovered\n"
     ]
    }
   ],
   "source": [
    "fraction_array = linspace(0, 1, 11)\n",
    "infected_sweep_middle = sweep_quarantine_middle(fraction_array)"
   ]
  },
  {
   "cell_type": "code",
   "execution_count": 96,
   "id": "66979a14",
   "metadata": {},
   "outputs": [
    {
     "data": {
      "image/png": "[encoded data removed]",
      "text/plain": [
       "<Figure size 432x288 with 1 Axes>"
      ]
     },
     "metadata": {
      "needs_background": "light"
     },
     "output_type": "display_data"
    }
   ],
   "source": [
    "infected_sweep_middle.plot(color='C2')\n",
    "\n",
    "decorate(xlabel='Fraction of Infected Placed in Quarantine',\n",
    "         ylabel='Total fraction infected',\n",
    "         title='Fraction infected vs. Quarantine rate')"
   ]
  },
  {
   "cell_type": "markdown",
   "id": "dfff5cfb",
   "metadata": {},
   "source": [
    "## Conclusion\n",
    "\n",
    "First, my model did not work well for the start of the spead of the virus. This also intuitively makes sense. At the beginning of a outbreak, only one person is sick. There's no way to capture a fraction of them, also in general it is hard to even notice an outbreak, until multiple people are sick. \n",
    "\n",
    "Second, quarantining seems to have a dramatic impact on the spread of an illness. If we were able to correctly identify more than 2/3 of the infected and quarantine them, then the total number of infections drastically decreases."
   ]
  },
  {
   "cell_type": "markdown",
   "id": "fce87837",
   "metadata": {},
   "source": [
    "## Bonus\n",
    "\n",
    "For fun, I'm curious how effect quarantining would be if 2/3 of the population was already infected."
   ]
  },
  {
   "cell_type": "code",
   "execution_count": 97,
   "id": "6a5063b6",
   "metadata": {},
   "outputs": [
    {
     "name": "stderr",
     "output_type": "stream",
     "text": [
      "C:\\Users\\tyler\\AppData\\Local\\Temp/ipykernel_15356/2448104761.py:4: RuntimeWarning: overflow encountered in double_scalars\n",
      "  infected = system.beta * i * s\n",
      "C:\\Users\\tyler\\AppData\\Local\\Temp/ipykernel_15356/2448104761.py:8: RuntimeWarning: invalid value encountered in double_scalars\n",
      "  i += infected - recovered\n"
     ]
    },
    {
     "data": {
      "image/png": "[encoded data removed]",
      "text/plain": [
       "<Figure size 432x288 with 1 Axes>"
      ]
     },
     "metadata": {
      "needs_background": "light"
     },
     "output_type": "display_data"
    }
   ],
   "source": [
    "def make_system_bonus(beta, gamma):\n",
    "    init = State(s=30, i=60, r=0)\n",
    "    init /= init.sum()\n",
    "\n",
    "    return System(init=init, t_end=7*14,\n",
    "                  beta=beta, gamma=gamma)\n",
    "\n",
    "def sweep_quarantine_bonus(fraction_array):\n",
    "    sweep = SweepSeries()\n",
    "\n",
    "    for fraction in fraction_array:\n",
    "        system = make_system_bonus(beta, gamma)\n",
    "        add_quarantine(system, fraction)\n",
    "        results = run_simulation(system, update_func)\n",
    "        sweep[fraction] = calc_total_infected(results, system)\n",
    "\n",
    "    return sweep\n",
    "\n",
    "fraction_array = linspace(0, 1, 11)\n",
    "infected_sweep_bonus = sweep_quarantine_bonus(fraction_array)\n",
    "\n",
    "infected_sweep_bonus.plot(color='C2')\n",
    "\n",
    "decorate(xlabel='Fraction of Infected Placed in Quarantine',\n",
    "         ylabel='Total fraction infected',\n",
    "         title='Fraction infected vs. Quarantine rate')"
   ]
  },
  {
   "cell_type": "code",
   "execution_count": null,
   "id": "dbc69bc4",
   "metadata": {},
   "outputs": [],
   "source": []
  }
 ],
 "metadata": {
  "celltoolbar": "Tags",
  "colab": {
   "name": "chap12.ipynb",
   "provenance": []
  },
  "kernelspec": {
   "display_name": "Python 3 (ipykernel)",
   "language": "python",
   "name": "python3"
  },
  "language_info": {
   "codemirror_mode": {
    "name": "ipython",
    "version": 3
   },
   "file_extension": ".py",
   "mimetype": "text/x-python",
   "name": "python",
   "nbconvert_exporter": "python",
   "pygments_lexer": "ipython3",
   "version": "3.9.7"
  }
 },
 "nbformat": 4,
 "nbformat_minor": 5
}
